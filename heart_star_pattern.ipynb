{
 "cells": [
  {
   "cell_type": "code",
   "execution_count": 2,
   "id": "39638fd0",
   "metadata": {},
   "outputs": [
    {
     "name": "stdout",
     "output_type": "stream",
     "text": [
      "   *       * \n",
      "  * *     * * \n",
      " * * *   * * * \n",
      "* * * * * * * * \n",
      "* * * * * * * * \n",
      " * * * * * * * \n",
      "  * * * * * * \n",
      "   * * * * * \n",
      "    * * * * \n",
      "     * * * \n",
      "      * * \n",
      "       * \n",
      "\n"
     ]
    }
   ],
   "source": [
    "# num=int(input('Enter a Number: '))\n",
    "# n=num//2\n",
    "n=4\n",
    "for i in range(1,n+1):\n",
    "    print(' '*(n-i) + '* '*i,end='')\n",
    "    print(' '*(2*(n-i)) + '* '*i)\n",
    "for i in range(8,0,-1):\n",
    "    print(' '*(8-i) + '* '*i)\n",
    "print()\n",
    "    \n",
    "    \n",
    "\n"
   ]
  },
  {
   "cell_type": "code",
   "execution_count": 17,
   "id": "a17eb1e3",
   "metadata": {},
   "outputs": [
    {
     "name": "stdout",
     "output_type": "stream",
     "text": [
      "Enter a Number: 9\n",
      "   *         * \n",
      "  * *       * * \n",
      " * * *     * * * \n",
      "* * * *   * * * * \n",
      "* * * * * * * * * \n",
      " * * * * * * * * \n",
      "  * * * * * * * \n",
      "   * * * * * * \n",
      "    * * * * * \n",
      "     * * * * \n",
      "      * * * \n",
      "       * * \n",
      "        * \n"
     ]
    }
   ],
   "source": [
    "num=int(input('Enter a Number: '))\n",
    "n=num//2\n",
    "for i  in range(n):\n",
    "    for j in range(n-i-1):\n",
    "        print(' ',end='')\n",
    "    for j in range(i+1):\n",
    "        print('* ',end='')\n",
    "    if num%2==0:\n",
    "        for j in range(2*(n-i-1)):\n",
    "            print(' ',end='')\n",
    "    else:\n",
    "        for j in range(2*(n-i-1)+2):\n",
    "            print(' ',end='')\n",
    "        \n",
    "    for j in range(i+1):\n",
    "        print('* ',end='') \n",
    "    print()\n",
    "for i in range(num,0,-1):\n",
    "    for j in range(num-i):\n",
    "        print(' ',end='')\n",
    "    for j in range(i,0,-1):\n",
    "        print('* ',end='')\n",
    "    print()\n",
    "    "
   ]
  },
  {
   "cell_type": "code",
   "execution_count": null,
   "id": "789e4645",
   "metadata": {},
   "outputs": [],
   "source": []
  },
  {
   "cell_type": "code",
   "execution_count": null,
   "id": "d8332f66",
   "metadata": {},
   "outputs": [],
   "source": []
  }
 ],
 "metadata": {
  "kernelspec": {
   "display_name": "Python 3 (ipykernel)",
   "language": "python",
   "name": "python3"
  },
  "language_info": {
   "codemirror_mode": {
    "name": "ipython",
    "version": 3
   },
   "file_extension": ".py",
   "mimetype": "text/x-python",
   "name": "python",
   "nbconvert_exporter": "python",
   "pygments_lexer": "ipython3",
   "version": "3.9.7"
  }
 },
 "nbformat": 4,
 "nbformat_minor": 5
}
